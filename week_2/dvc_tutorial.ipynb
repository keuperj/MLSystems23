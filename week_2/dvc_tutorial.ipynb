{
 "cells": [
  {
   "cell_type": "markdown",
   "id": "latin-worst",
   "metadata": {},
   "source": [
    "# Intro to DVC"
   ]
  },
  {
   "cell_type": "markdown",
   "id": "objective-masters",
   "metadata": {},
   "source": [
    "#### Installing DVC\n",
    "\n",
    "DVC can be installed either through pip:\n",
    "\n",
    "```\n",
    "pip install dvc\n",
    "```\n",
    "\n",
    "Or by downloading an installer from their website: https://dvc.org/\n"
   ]
  },
  {
   "cell_type": "markdown",
   "id": "casual-information",
   "metadata": {},
   "source": [
    "### Discussion: Where's the Data?\n",
    "\n",
    "  1. \"I want to run your analysis script.  Where is the data for the analysis?  How do I get it?\"\n",
    "  2. \"I found a cool data analysis project on the internet that has a data download step.\"  Where is it getting the data from?\n"
   ]
  },
  {
   "cell_type": "markdown",
   "id": "accessory-composer",
   "metadata": {},
   "source": [
    "## Data Validation"
   ]
  },
  {
   "cell_type": "markdown",
   "id": "dominican-writer",
   "metadata": {},
   "source": [
    "### Discussion: Fickle Files\n",
    "\n",
    "  1. \"I ran the analysis, but there was an error when it tried to read the file. What went wrong?\"\n",
    "  2. \"I ran the analysis on the data without errors, but I got a different result than you did. What went wrong?\""
   ]
  },
  {
   "cell_type": "markdown",
   "id": "entire-sewing",
   "metadata": {},
   "source": [
    "### File Hashing\n",
    "\n",
    "Hashing means transforming data from one format to another for the purpose of data verification.  It's equivalent to a math function:  \n",
    "\n",
    "$$ y = f(x) $$\n",
    "\n",
    "where $x$ is the data, $f()$ is the hashing algorithm, and $y$ is the \"hash\" or \"checksum\".  Written otherwise:\n",
    "\n",
    "$$ checksum = hasher(data) $$\n",
    "\n",
    "### Desirable Qualities in a Hashing Algorithm for Data Validation in Data Science contexts\n",
    "\n",
    "  1. **Fast Checksum Calculation**.  It should be significantly easier to compare two different checksums than comparing the original data.  \n",
    "  2. **Consistent Across Runs**.  Using the hasher twice on the same data should get the same result.\n",
    "  3. **Consistent Across Machines**.  Using the hasher on different computers on the same data should get the same result.\n",
    "  4. **Have Few Collisions**:  Different data should not result in the same checksum.\n",
    "  5. **Unidirectionality**.  The data should not be able to be generated from the checksum.\n",
    "  6. **Fast Hash Calculation**.  Quick Calculation of checksums would be nice, for convenience.\n",
    "  7. **Tiny Checksums**.  The checksum shouldn't take up much space on the computer.\n",
    "  \n",
    "   "
   ]
  },
  {
   "cell_type": "markdown",
   "id": "mighty-double",
   "metadata": {},
   "source": [
    "### Write Some Test Data to a File"
   ]
  },
  {
   "cell_type": "code",
   "execution_count": 1,
   "id": "novel-microphone",
   "metadata": {},
   "outputs": [
    {
     "name": "stdout",
     "output_type": "stream",
     "text": [
      "Writing test.txt\n"
     ]
    }
   ],
   "source": [
    "%%writefile test.txt\n",
    "Session Count\n",
    "1 10\n",
    "2 7\n",
    "3 13"
   ]
  },
  {
   "cell_type": "markdown",
   "id": "revolutionary-edwards",
   "metadata": {},
   "source": [
    "### Windows (DOS) Hash commands: Certutil"
   ]
  },
  {
   "cell_type": "code",
   "execution_count": 48,
   "id": "abandoned-draft",
   "metadata": {},
   "outputs": [
    {
     "name": "stdout",
     "output_type": "stream",
     "text": [
      "MD5 hash of myexp/test.txt:\n",
      "3d810b829da0c3d9828dea806f26079f\n",
      "CertUtil: -hashfile command completed successfully.\n"
     ]
    }
   ],
   "source": [
    "!Certutil -hashfile test.txt MD5"
   ]
  },
  {
   "cell_type": "code",
   "execution_count": 49,
   "id": "packed-archives",
   "metadata": {},
   "outputs": [
    {
     "name": "stdout",
     "output_type": "stream",
     "text": [
      "SHA256 hash of myexp/test.txt:\n",
      "f2ac3c76fe99a24847a2e30aee19f166b02b217d83510891fd4b118605edf6fe\n",
      "CertUtil: -hashfile command completed successfully.\n"
     ]
    }
   ],
   "source": [
    "!Certutil -hashfile test.txt SHA256"
   ]
  },
  {
   "cell_type": "code",
   "execution_count": 52,
   "id": "agricultural-sympathy",
   "metadata": {},
   "outputs": [
    {
     "name": "stdout",
     "output_type": "stream",
     "text": [
      "SHA512 hash of myexp/test.txt:\n",
      "3e411b655245b77cea179d41a5dd7a30e01c5fd2e3ccad063af1b5b5a13d82311e2838df621630b2e5436ca565e0289dff982ea43e97e90e897753e45d4a881c\n",
      "CertUtil: -hashfile command completed successfully.\n"
     ]
    }
   ],
   "source": [
    "!Certutil -hashfile test.txt SHA512"
   ]
  },
  {
   "cell_type": "markdown",
   "id": "unable-definition",
   "metadata": {},
   "source": [
    "### Mac/Linux Hash commands"
   ]
  },
  {
   "cell_type": "code",
   "execution_count": 53,
   "id": "radical-dictionary",
   "metadata": {},
   "outputs": [
    {
     "name": "stderr",
     "output_type": "stream",
     "text": [
      "'md5sum' is not recognized as an internal or external command,\n",
      "operable program or batch file.\n"
     ]
    }
   ],
   "source": [
    "!md5sum test.txt"
   ]
  },
  {
   "cell_type": "code",
   "execution_count": null,
   "id": "interpreted-impact",
   "metadata": {},
   "outputs": [],
   "source": [
    "!sha256sum test.txt"
   ]
  },
  {
   "cell_type": "code",
   "execution_count": null,
   "id": "upper-wilderness",
   "metadata": {},
   "outputs": [],
   "source": [
    "!sha512sum test.txt"
   ]
  },
  {
   "cell_type": "markdown",
   "id": "grand-scale",
   "metadata": {},
   "source": [
    "### Comparing Files Directly in Python"
   ]
  },
  {
   "cell_type": "markdown",
   "id": "authentic-zimbabwe",
   "metadata": {},
   "source": [
    "#### Reading Files with Path.read_bytes()"
   ]
  },
  {
   "cell_type": "code",
   "execution_count": 9,
   "id": "aggregate-highlight",
   "metadata": {},
   "outputs": [
    {
     "data": {
      "text/plain": [
       "b'Session Count\\r\\n1 10\\r\\n2 7\\r\\n3 13\\r\\n'"
      ]
     },
     "execution_count": 9,
     "metadata": {},
     "output_type": "execute_result"
    }
   ],
   "source": [
    "from pathlib import Path\n",
    "data = Path(\"test.txt\").read_bytes()\n",
    "data"
   ]
  },
  {
   "cell_type": "markdown",
   "id": "needed-appearance",
   "metadata": {},
   "source": [
    "#### Comparing Data with =="
   ]
  },
  {
   "cell_type": "code",
   "execution_count": 55,
   "id": "written-delaware",
   "metadata": {},
   "outputs": [
    {
     "data": {
      "text/plain": [
       "True"
      ]
     },
     "execution_count": 55,
     "metadata": {},
     "output_type": "execute_result"
    }
   ],
   "source": [
    "data == b'Session Count\\r\\n1 10\\r\\n2 7\\r\\n3 13\\r\\n'"
   ]
  },
  {
   "cell_type": "markdown",
   "id": "ethical-significance",
   "metadata": {},
   "source": [
    "### Hashing in Python"
   ]
  },
  {
   "cell_type": "code",
   "execution_count": 13,
   "id": "shaped-hormone",
   "metadata": {},
   "outputs": [],
   "source": [
    "from hashlib import sha256, sha512, md5"
   ]
  },
  {
   "cell_type": "code",
   "execution_count": 14,
   "id": "extra-chair",
   "metadata": {},
   "outputs": [
    {
     "data": {
      "text/plain": [
       "'3d810b829da0c3d9828dea806f26079f'"
      ]
     },
     "execution_count": 14,
     "metadata": {},
     "output_type": "execute_result"
    }
   ],
   "source": [
    "md5(data).hexdigest()"
   ]
  },
  {
   "cell_type": "code",
   "execution_count": 42,
   "id": "authentic-sauce",
   "metadata": {},
   "outputs": [
    {
     "data": {
      "text/plain": [
       "'f2ac3c76fe99a24847a2e30aee19f166b02b217d83510891fd4b118605edf6fe'"
      ]
     },
     "execution_count": 42,
     "metadata": {},
     "output_type": "execute_result"
    }
   ],
   "source": [
    "sha256(data).hexdigest()"
   ]
  },
  {
   "cell_type": "code",
   "execution_count": 43,
   "id": "partial-weekly",
   "metadata": {},
   "outputs": [
    {
     "data": {
      "text/plain": [
       "'3e411b655245b77cea179d41a5dd7a30e01c5fd2e3ccad063af1b5b5a13d82311e2838df621630b2e5436ca565e0289dff982ea43e97e90e897753e45d4a881c'"
      ]
     },
     "execution_count": 43,
     "metadata": {},
     "output_type": "execute_result"
    }
   ],
   "source": [
    "sha512(data).hexdigest()"
   ]
  },
  {
   "cell_type": "markdown",
   "id": "impossible-hurricane",
   "metadata": {},
   "source": [
    "### Hashing in DVC"
   ]
  },
  {
   "cell_type": "markdown",
   "id": "split-optimization",
   "metadata": {},
   "source": [
    "#### One-Time Setup per Projectg: Setting up DVC environment\n",
    "\n",
    "DVC needs a few things to work:\n",
    "\n",
    "  1. **A project folder**: Everything DVC should be tracking as a single project should be in the same main place on the computer.\n",
    "  4. **A dvc repo**: Before it starts tracking files, DVC needs to initialize some things in the project first.\n",
    "  \n",
    "These translate into these steps:\n",
    "\n",
    "  1. `cd myprojectfolder`: change the working directory to the folder you want to use as the project folder.\n",
    "  4. `dvc init`: make the dvc repository by adding a \".dvc\" folder.\n",
    "\n",
    "  "
   ]
  },
  {
   "cell_type": "code",
   "execution_count": 59,
   "id": "cognitive-template",
   "metadata": {},
   "outputs": [
    {
     "name": "stdout",
     "output_type": "stream",
     "text": [
      "Initialized empty Git repository in C:/Users/Nick/.git/\n"
     ]
    }
   ],
   "source": [
    "!git init"
   ]
  },
  {
   "cell_type": "code",
   "execution_count": 4,
   "id": "nonprofit-bhutan",
   "metadata": {},
   "outputs": [
    {
     "name": "stdout",
     "output_type": "stream",
     "text": [
      "+---------------------------------------------------------------------+\n",
      "|                                                                     |\n",
      "|        DVC has enabled anonymous aggregate usage analytics.         |\n",
      "|     Read the analytics documentation (and how to opt-out) here:     |\n",
      "|             <https://dvc.org/doc/user-guide/analytics>              |\n",
      "|                                                                     |\n",
      "+---------------------------------------------------------------------+\n",
      "\n",
      "What's next?\n",
      "------------\n",
      "- Check out the documentation: <https://dvc.org/doc>\n",
      "- Get help and share ideas: <https://dvc.org/chat>\n",
      "- Star us on GitHub: <https://github.com/iterative/dvc>\n"
     ]
    }
   ],
   "source": [
    "!dvc init --no-scm"
   ]
  },
  {
   "cell_type": "markdown",
   "id": "stainless-pierre",
   "metadata": {},
   "source": [
    "### Adding Hashes to the DVC Repo by Adding \"Stub\" Files"
   ]
  },
  {
   "cell_type": "code",
   "execution_count": 15,
   "id": "romance-aquarium",
   "metadata": {},
   "outputs": [
    {
     "name": "stdout",
     "output_type": "stream",
     "text": [
      "Overwriting test.txt\n"
     ]
    }
   ],
   "source": [
    "%%writefile test.txt\n",
    "Session Count\n",
    "1 10\n",
    "2 7\n",
    "3 13"
   ]
  },
  {
   "cell_type": "code",
   "execution_count": 5,
   "id": "banned-consequence",
   "metadata": {},
   "outputs": [],
   "source": [
    "!dvc add test.txt"
   ]
  },
  {
   "cell_type": "code",
   "execution_count": 7,
   "id": "sonic-detective",
   "metadata": {},
   "outputs": [
    {
     "name": "stdout",
     "output_type": "stream",
     "text": [
      " Volume in drive C is Windows\n",
      " Volume Serial Number is B6B1-952C\n",
      "\n",
      " Directory of C:\\Users\\Nick\\Desktop\\DVC Intro\n",
      "\n",
      "05/03/2021  09:56    <DIR>          .\n",
      "05/03/2021  09:56    <DIR>          ..\n",
      "05/03/2021  09:55    <DIR>          .dvc\n",
      "05/03/2021  09:54               142 .dvcignore\n",
      "05/03/2021  09:51    <DIR>          .ipynb_checkpoints\n",
      "05/03/2021  09:56            13.238 DVC Intro.ipynb\n",
      "05/03/2021  09:55                32 test.txt\n",
      "05/03/2021  09:55                78 test.txt.dvc\n",
      "               4 File(s)         13.490 bytes\n",
      "               4 Dir(s)  24.757.575.680 bytes free\n"
     ]
    }
   ],
   "source": [
    "!dir"
   ]
  },
  {
   "cell_type": "code",
   "execution_count": 12,
   "id": "japanese-cedar",
   "metadata": {},
   "outputs": [
    {
     "name": "stdout",
     "output_type": "stream",
     "text": [
      "outs:\n",
      "- md5: 1ade9261c064fdc16ee8ec1b6555bb0b\n",
      "  size: 32\n",
      "  path: test.txt\n",
      "\n"
     ]
    }
   ],
   "source": [
    "from pathlib import Path\n",
    "print(Path(\"test.txt.dvc\").read_text())"
   ]
  },
  {
   "cell_type": "markdown",
   "id": "determined-dispute",
   "metadata": {},
   "source": [
    "## Version Control\n",
    "\n",
    "Contrary to its name (\"Data Version Control\"), DVC doesn't actually handle much of the version control work--it lets Git do it instead on DVC's stub files.  This is a nice solution to synchronizing code, documentation, and data: when there's only one system keeping track of things, synchronization errors can be avoided."
   ]
  },
  {
   "cell_type": "markdown",
   "id": "visible-dance",
   "metadata": {},
   "source": [
    "### Setting Up Git for Version Control for DVC\n",
    "\n",
    "  1. `git init`: Make the project folder a Git repository.\n",
    "  2. `dvc init`: Make the DVC repo, telling it to talk to Git when it needs version control help (default behavior)\n",
    "    - *Note*: For this tutorial, we already did this but specified `--no-scm` (no source control manager).  This is not good anymore--just delete the .dvc folder and re-run the `dvc init` command to get things set up correctly.\n",
    "  3. `git commit -m \"added dvc\"`: save the dvc configuration files into git version control."
   ]
  },
  {
   "cell_type": "markdown",
   "id": "talented-wallet",
   "metadata": {},
   "source": [
    "#### Init the Git Repository"
   ]
  },
  {
   "cell_type": "code",
   "execution_count": null,
   "id": "valuable-condition",
   "metadata": {},
   "outputs": [],
   "source": [
    "!git init"
   ]
  },
  {
   "cell_type": "markdown",
   "id": "basic-tokyo",
   "metadata": {},
   "source": [
    "#### Delete the .dvc folder\n",
    "\n",
    "Instead of doing it via the command line, let's just open the file browser.  (Gives us a chance to talk about hidden files/folders)"
   ]
  },
  {
   "cell_type": "code",
   "execution_count": 16,
   "id": "lovely-russia",
   "metadata": {},
   "outputs": [],
   "source": [
    "!explorer .  # Windows, open the File Browser"
   ]
  },
  {
   "cell_type": "code",
   "execution_count": null,
   "id": "occupied-first",
   "metadata": {},
   "outputs": [],
   "source": [
    "!open .  # Mac, open Finder"
   ]
  },
  {
   "cell_type": "code",
   "execution_count": null,
   "id": "random-latest",
   "metadata": {},
   "outputs": [],
   "source": [
    "!nautilus .  # Ubuntu, open file browser"
   ]
  },
  {
   "cell_type": "markdown",
   "id": "resident-inspector",
   "metadata": {},
   "source": [
    "### Init the DVC Repository"
   ]
  },
  {
   "cell_type": "code",
   "execution_count": null,
   "id": "identical-context",
   "metadata": {},
   "outputs": [],
   "source": [
    "!dvc init"
   ]
  },
  {
   "cell_type": "markdown",
   "id": "tamil-stadium",
   "metadata": {},
   "source": [
    "### Add and Commit the Files\n",
    "\n",
    "Version control is straightforward.  Whenever data files are changed or added, just use the `dvc add` command, then commit the resulting stub files to git for version control with the `git commit` command.  Below are all the manual steps, but DVC helps out a bit by giving some git commands for you."
   ]
  },
  {
   "cell_type": "code",
   "execution_count": null,
   "id": "least-essay",
   "metadata": {},
   "outputs": [],
   "source": [
    "!dvc add test.txt"
   ]
  },
  {
   "cell_type": "code",
   "execution_count": null,
   "id": "alpine-issue",
   "metadata": {},
   "outputs": [],
   "source": [
    "!git add test.txt.dvc"
   ]
  },
  {
   "cell_type": "code",
   "execution_count": null,
   "id": "ignored-maintenance",
   "metadata": {},
   "outputs": [],
   "source": [
    "!git commit -m \"changed files\""
   ]
  },
  {
   "cell_type": "markdown",
   "id": "musical-forth",
   "metadata": {},
   "source": [
    "*Note*: If this is your first time using git on the computer, you may be asked to log your name and email first (code for doing this below)"
   ]
  },
  {
   "cell_type": "code",
   "execution_count": 19,
   "id": "prospective-malawi",
   "metadata": {},
   "outputs": [],
   "source": [
    "# !git config --global user.name \"Nicholas A. Del Grosso\"\n",
    "# !git config --global user.email \"delgrosso.nick@gmail.com\""
   ]
  },
  {
   "cell_type": "markdown",
   "id": "verified-bibliography",
   "metadata": {},
   "source": [
    "That's it!  You've saved a snapshot of the project, along with the stub files."
   ]
  },
  {
   "cell_type": "markdown",
   "id": "severe-drive",
   "metadata": {},
   "source": [
    "## Documenting Remote Data Storage and Retrieval"
   ]
  },
  {
   "cell_type": "markdown",
   "id": "israeli-shaft",
   "metadata": {},
   "source": [
    "\n",
    "Storing your data on a different machine can be really helpful, if:\n",
    "\n",
    "  1. You have lots of data, but only need to access some of it at a time.\n",
    "  2. You use different computers to do your analysis, and want a common place to look for your data\n",
    "  3. Other people would like to access your data\n",
    "  4. You value your data and don't want to accidentally delete/modify it.\n",
    "  5. Your organization/industry has regulations around data protection, privacy, security, and/or intellection property.\n",
    "  6. You love making things more complicated, and one computer for one analysis just isn't enough.\n",
    "  "
   ]
  },
  {
   "cell_type": "markdown",
   "id": "molecular-weekly",
   "metadata": {},
   "source": [
    "### DVC \"Remotes\": Connections to various remote data storage tools\n",
    "\n",
    "DVC's cache contains all the versions of your project's data, indexed by the file's checksum.  This is essentially a DVC-specific database for storing your data.\n",
    "\n",
    "DVC can connect to a lot of different services, from proprietary ones like Amazon S3 or Google Drive to generic ones like SSH or FTP connections.  You can even consider a different folder on the same computer as a \"remote\" backup--it's all the same."
   ]
  },
  {
   "cell_type": "markdown",
   "id": "fancy-convergence",
   "metadata": {},
   "source": [
    "#### Add a New DVC Remote\n",
    "\n",
    "DVC Docs: `dvc remote add`: https://dvc.org/doc/command-reference/remote/add\n",
    "\n",
    "To use these different services, you'll likely need to pip install some remote-specific python libraries.  The docs show how."
   ]
  },
  {
   "cell_type": "code",
   "execution_count": 21,
   "id": "excessive-class",
   "metadata": {},
   "outputs": [],
   "source": [
    "# !dvc remote add local ../myfolder"
   ]
  },
  {
   "cell_type": "code",
   "execution_count": 22,
   "id": "sophisticated-backing",
   "metadata": {},
   "outputs": [],
   "source": [
    "# !dvc remote add ssh ssh://172.105.74.128/myfolder"
   ]
  },
  {
   "cell_type": "code",
   "execution_count": 23,
   "id": "synthetic-nitrogen",
   "metadata": {},
   "outputs": [],
   "source": [
    "# !dvc remote add gdrive gdrive://adf=2342876ds8762g324327824"
   ]
  },
  {
   "cell_type": "markdown",
   "id": "crude-article",
   "metadata": {},
   "source": [
    "### Push the Data to the Remote"
   ]
  },
  {
   "cell_type": "code",
   "execution_count": 25,
   "id": "departmental-cooling",
   "metadata": {},
   "outputs": [],
   "source": [
    "# !dvc push -r local"
   ]
  },
  {
   "cell_type": "markdown",
   "id": "ambient-crack",
   "metadata": {},
   "source": [
    "### Pull the Data From the Remote"
   ]
  },
  {
   "cell_type": "code",
   "execution_count": null,
   "id": "consolidated-union",
   "metadata": {},
   "outputs": [],
   "source": [
    "# !dvc pull -r local"
   ]
  }
 ],
 "metadata": {
  "kernelspec": {
   "display_name": "Python 3",
   "language": "python",
   "name": "python3"
  },
  "language_info": {
   "codemirror_mode": {
    "name": "ipython",
    "version": 3
   },
   "file_extension": ".py",
   "mimetype": "text/x-python",
   "name": "python",
   "nbconvert_exporter": "python",
   "pygments_lexer": "ipython3",
   "version": "3.8.3"
  }
 },
 "nbformat": 4,
 "nbformat_minor": 5
}
